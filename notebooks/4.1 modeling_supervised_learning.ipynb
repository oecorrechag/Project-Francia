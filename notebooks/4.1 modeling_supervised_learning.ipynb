{
 "cells": [
  {
   "cell_type": "markdown",
   "id": "0da9a402",
   "metadata": {},
   "source": [
    "# AIMS\n",
    "\n",
    "## Supervised Learning\n",
    "\n",
    "\n",
    "The y column is offer_type. It will help to predict the correct offer_type to send to each customer.\n",
    "\n",
    "Metrics:\n",
    "\n",
    "Since we have few binomial outcomes (BOGO = 1, discount = 2, informational = 3), we can use Classification models.\n",
    "\n",
    "Since it is a classification problem, we will use accuracy and presicion score to evaluate my models.\n",
    "\n",
    "Comapre the correct predictions and total number of predicitons to determine the accuracy of the model and choose the best.\n",
    "\n",
    "Five different ML algorithms can be test on the datset :\n",
    "\n",
    "- Decision Trees\n",
    "- Logistic Regression\n",
    "- Nearest Neighbours (KNN)\n",
    "- Naive Bayes\n",
    "- Random Forest\n",
    "\n",
    "Notes:\n",
    "- Initializing random_state to arbitrary number 42 because the seed will be set common for LogisticRegression and RandomForestClassifier models.\n",
    "- For RandomForestClassifier, initializing 500 to n_estimators parameter (The number of trees in the forest) for better accuracy.\n",
    "- Default parameter settings were used for KNeighborsClassifier(), GaussianNB() and DecisionTreeClassifier() in this dataset.\n"
   ]
  },
  {
   "cell_type": "code",
   "execution_count": 1,
   "id": "09851911",
   "metadata": {},
   "outputs": [],
   "source": [
    "%load_ext autoreload\n",
    "%autoreload 2"
   ]
  },
  {
   "cell_type": "code",
   "execution_count": 30,
   "id": "49b03314",
   "metadata": {},
   "outputs": [],
   "source": [
    "import pandas as pd\n",
    "import numpy as np\n",
    "import json\n",
    "\n",
    "import seaborn as sb\n",
    "import matplotlib.pyplot as plt\n",
    "\n",
    "from sklearn.model_selection import train_test_split\n",
    "\n",
    "from sklearn.metrics import fbeta_score\n",
    "from sklearn.svm import SVC\n",
    "from sklearn.ensemble import RandomForestClassifier\n",
    "from sklearn.tree import DecisionTreeClassifier\n",
    "from sklearn.metrics import recall_score\n",
    "from sklearn.linear_model import LogisticRegression\n",
    "from sklearn.metrics import precision_score\n",
    "from sklearn.neighbors import KNeighborsClassifier\n",
    "from sklearn.naive_bayes import GaussianNB \n",
    "\n",
    "from sklearn.metrics import confusion_matrix, classification_report\n",
    "from sklearn.metrics import accuracy_score, r2_score, mean_squared_error, mean_absolute_error\n",
    "\n",
    "from sklearn.model_selection import GridSearchCV\n",
    "from sklearn.model_selection import RepeatedStratifiedKFold\n",
    "\n",
    "pd.set_option('display.max_columns', None)\n",
    "pd.set_option('display.max_rows', None)\n",
    "import warnings\n",
    "warnings.filterwarnings(\"ignore\")"
   ]
  },
  {
   "cell_type": "code",
   "execution_count": 4,
   "id": "166f5938",
   "metadata": {},
   "outputs": [],
   "source": [
    "import sys\n",
    "sys.path.append(\"../\") \n",
    "\n",
    "import utils.paths as path\n",
    "from utils.paths2 import direcciones"
   ]
  },
  {
   "cell_type": "code",
   "execution_count": 5,
   "id": "dd31b842",
   "metadata": {},
   "outputs": [],
   "source": [
    "# Crear los de drive\n",
    "G_raw, G_processed, G_interim, G_external, G_models, G_reports, G_reports_figures = direcciones('starbucks')"
   ]
  },
  {
   "cell_type": "code",
   "execution_count": 14,
   "id": "4ecc2ddb",
   "metadata": {},
   "outputs": [
    {
     "data": {
      "text/html": [
       "<div>\n",
       "<style scoped>\n",
       "    .dataframe tbody tr th:only-of-type {\n",
       "        vertical-align: middle;\n",
       "    }\n",
       "\n",
       "    .dataframe tbody tr th {\n",
       "        vertical-align: top;\n",
       "    }\n",
       "\n",
       "    .dataframe thead th {\n",
       "        text-align: right;\n",
       "    }\n",
       "</style>\n",
       "<table border=\"1\" class=\"dataframe\">\n",
       "  <thead>\n",
       "    <tr style=\"text-align: right;\">\n",
       "      <th></th>\n",
       "      <th>offer_completed</th>\n",
       "      <th>offer_recived</th>\n",
       "      <th>offer_viewed</th>\n",
       "      <th>event</th>\n",
       "      <th>time</th>\n",
       "      <th>offer_id</th>\n",
       "      <th>gender</th>\n",
       "      <th>age</th>\n",
       "      <th>became_member_on</th>\n",
       "      <th>income</th>\n",
       "      <th>age_groups</th>\n",
       "      <th>salary_groups</th>\n",
       "      <th>member_year</th>\n",
       "      <th>member_month</th>\n",
       "      <th>member_day</th>\n",
       "      <th>members_since_in_days</th>\n",
       "      <th>member_since_year</th>\n",
       "      <th>reward_y</th>\n",
       "      <th>difficulty</th>\n",
       "      <th>duration</th>\n",
       "      <th>offer_type</th>\n",
       "      <th>email</th>\n",
       "      <th>web</th>\n",
       "      <th>mobile</th>\n",
       "      <th>social</th>\n",
       "      <th>customer_ids</th>\n",
       "    </tr>\n",
       "  </thead>\n",
       "  <tbody>\n",
       "    <tr>\n",
       "      <th>0</th>\n",
       "      <td>0</td>\n",
       "      <td>1</td>\n",
       "      <td>0</td>\n",
       "      <td>offer received</td>\n",
       "      <td>0</td>\n",
       "      <td>6</td>\n",
       "      <td>0</td>\n",
       "      <td>75</td>\n",
       "      <td>2017-05-09</td>\n",
       "      <td>100000</td>\n",
       "      <td>7</td>\n",
       "      <td>8</td>\n",
       "      <td>2017</td>\n",
       "      <td>5</td>\n",
       "      <td>9</td>\n",
       "      <td>1971</td>\n",
       "      <td>5</td>\n",
       "      <td>5.0</td>\n",
       "      <td>5.0</td>\n",
       "      <td>7.0</td>\n",
       "      <td>0</td>\n",
       "      <td>1.0</td>\n",
       "      <td>1.0</td>\n",
       "      <td>1.0</td>\n",
       "      <td>0.0</td>\n",
       "      <td>1</td>\n",
       "    </tr>\n",
       "    <tr>\n",
       "      <th>1</th>\n",
       "      <td>0</td>\n",
       "      <td>0</td>\n",
       "      <td>1</td>\n",
       "      <td>offer viewed</td>\n",
       "      <td>6</td>\n",
       "      <td>6</td>\n",
       "      <td>0</td>\n",
       "      <td>75</td>\n",
       "      <td>2017-05-09</td>\n",
       "      <td>100000</td>\n",
       "      <td>7</td>\n",
       "      <td>8</td>\n",
       "      <td>2017</td>\n",
       "      <td>5</td>\n",
       "      <td>9</td>\n",
       "      <td>1971</td>\n",
       "      <td>5</td>\n",
       "      <td>5.0</td>\n",
       "      <td>5.0</td>\n",
       "      <td>7.0</td>\n",
       "      <td>0</td>\n",
       "      <td>1.0</td>\n",
       "      <td>1.0</td>\n",
       "      <td>1.0</td>\n",
       "      <td>0.0</td>\n",
       "      <td>1</td>\n",
       "    </tr>\n",
       "    <tr>\n",
       "      <th>2</th>\n",
       "      <td>1</td>\n",
       "      <td>0</td>\n",
       "      <td>0</td>\n",
       "      <td>offer completed</td>\n",
       "      <td>132</td>\n",
       "      <td>6</td>\n",
       "      <td>0</td>\n",
       "      <td>75</td>\n",
       "      <td>2017-05-09</td>\n",
       "      <td>100000</td>\n",
       "      <td>7</td>\n",
       "      <td>8</td>\n",
       "      <td>2017</td>\n",
       "      <td>5</td>\n",
       "      <td>9</td>\n",
       "      <td>1971</td>\n",
       "      <td>5</td>\n",
       "      <td>5.0</td>\n",
       "      <td>5.0</td>\n",
       "      <td>7.0</td>\n",
       "      <td>0</td>\n",
       "      <td>1.0</td>\n",
       "      <td>1.0</td>\n",
       "      <td>1.0</td>\n",
       "      <td>0.0</td>\n",
       "      <td>1</td>\n",
       "    </tr>\n",
       "    <tr>\n",
       "      <th>3</th>\n",
       "      <td>0</td>\n",
       "      <td>1</td>\n",
       "      <td>0</td>\n",
       "      <td>offer received</td>\n",
       "      <td>168</td>\n",
       "      <td>5</td>\n",
       "      <td>0</td>\n",
       "      <td>75</td>\n",
       "      <td>2017-05-09</td>\n",
       "      <td>100000</td>\n",
       "      <td>7</td>\n",
       "      <td>8</td>\n",
       "      <td>2017</td>\n",
       "      <td>5</td>\n",
       "      <td>9</td>\n",
       "      <td>1971</td>\n",
       "      <td>5</td>\n",
       "      <td>0.0</td>\n",
       "      <td>0.0</td>\n",
       "      <td>3.0</td>\n",
       "      <td>2</td>\n",
       "      <td>1.0</td>\n",
       "      <td>0.0</td>\n",
       "      <td>1.0</td>\n",
       "      <td>1.0</td>\n",
       "      <td>1</td>\n",
       "    </tr>\n",
       "    <tr>\n",
       "      <th>4</th>\n",
       "      <td>0</td>\n",
       "      <td>0</td>\n",
       "      <td>1</td>\n",
       "      <td>offer viewed</td>\n",
       "      <td>216</td>\n",
       "      <td>5</td>\n",
       "      <td>0</td>\n",
       "      <td>75</td>\n",
       "      <td>2017-05-09</td>\n",
       "      <td>100000</td>\n",
       "      <td>7</td>\n",
       "      <td>8</td>\n",
       "      <td>2017</td>\n",
       "      <td>5</td>\n",
       "      <td>9</td>\n",
       "      <td>1971</td>\n",
       "      <td>5</td>\n",
       "      <td>0.0</td>\n",
       "      <td>0.0</td>\n",
       "      <td>3.0</td>\n",
       "      <td>2</td>\n",
       "      <td>1.0</td>\n",
       "      <td>0.0</td>\n",
       "      <td>1.0</td>\n",
       "      <td>1.0</td>\n",
       "      <td>1</td>\n",
       "    </tr>\n",
       "  </tbody>\n",
       "</table>\n",
       "</div>"
      ],
      "text/plain": [
       "   offer_completed  offer_recived  offer_viewed            event  time  \\\n",
       "0                0              1             0   offer received     0   \n",
       "1                0              0             1     offer viewed     6   \n",
       "2                1              0             0  offer completed   132   \n",
       "3                0              1             0   offer received   168   \n",
       "4                0              0             1     offer viewed   216   \n",
       "\n",
       "   offer_id  gender  age became_member_on  income  age_groups  salary_groups  \\\n",
       "0         6       0   75       2017-05-09  100000           7              8   \n",
       "1         6       0   75       2017-05-09  100000           7              8   \n",
       "2         6       0   75       2017-05-09  100000           7              8   \n",
       "3         5       0   75       2017-05-09  100000           7              8   \n",
       "4         5       0   75       2017-05-09  100000           7              8   \n",
       "\n",
       "   member_year  member_month  member_day  members_since_in_days  \\\n",
       "0         2017             5           9                   1971   \n",
       "1         2017             5           9                   1971   \n",
       "2         2017             5           9                   1971   \n",
       "3         2017             5           9                   1971   \n",
       "4         2017             5           9                   1971   \n",
       "\n",
       "   member_since_year  reward_y  difficulty  duration  offer_type  email  web  \\\n",
       "0                  5       5.0         5.0       7.0           0    1.0  1.0   \n",
       "1                  5       5.0         5.0       7.0           0    1.0  1.0   \n",
       "2                  5       5.0         5.0       7.0           0    1.0  1.0   \n",
       "3                  5       0.0         0.0       3.0           2    1.0  0.0   \n",
       "4                  5       0.0         0.0       3.0           2    1.0  0.0   \n",
       "\n",
       "   mobile  social  customer_ids  \n",
       "0     1.0     0.0             1  \n",
       "1     1.0     0.0             1  \n",
       "2     1.0     0.0             1  \n",
       "3     1.0     1.0             1  \n",
       "4     1.0     1.0             1  "
      ]
     },
     "execution_count": 14,
     "metadata": {},
     "output_type": "execute_result"
    }
   ],
   "source": [
    "# csv y jsons \n",
    "offer_df = pd.read_csv(path.data_processed_dir('offer_df.csv'))\n",
    "offer_df.head()"
   ]
  },
  {
   "cell_type": "code",
   "execution_count": 15,
   "id": "2c81febf",
   "metadata": {},
   "outputs": [
    {
     "name": "stdout",
     "output_type": "stream",
     "text": [
      "<class 'pandas.core.frame.DataFrame'>\n",
      "RangeIndex: 148805 entries, 0 to 148804\n",
      "Data columns (total 26 columns):\n",
      " #   Column                 Non-Null Count   Dtype  \n",
      "---  ------                 --------------   -----  \n",
      " 0   offer_completed        148805 non-null  int64  \n",
      " 1   offer_recived          148805 non-null  int64  \n",
      " 2   offer_viewed           148805 non-null  int64  \n",
      " 3   event                  148805 non-null  object \n",
      " 4   time                   148805 non-null  int64  \n",
      " 5   offer_id               148805 non-null  int64  \n",
      " 6   gender                 148805 non-null  int64  \n",
      " 7   age                    148805 non-null  int64  \n",
      " 8   became_member_on       148805 non-null  object \n",
      " 9   income                 148805 non-null  int64  \n",
      " 10  age_groups             148805 non-null  int64  \n",
      " 11  salary_groups          148805 non-null  int64  \n",
      " 12  member_year            148805 non-null  int64  \n",
      " 13  member_month           148805 non-null  int64  \n",
      " 14  member_day             148805 non-null  int64  \n",
      " 15  members_since_in_days  148805 non-null  int64  \n",
      " 16  member_since_year      148805 non-null  int64  \n",
      " 17  reward_y               148805 non-null  float64\n",
      " 18  difficulty             148805 non-null  float64\n",
      " 19  duration               148805 non-null  float64\n",
      " 20  offer_type             148805 non-null  int64  \n",
      " 21  email                  148805 non-null  float64\n",
      " 22  web                    148805 non-null  float64\n",
      " 23  mobile                 148805 non-null  float64\n",
      " 24  social                 148805 non-null  float64\n",
      " 25  customer_ids           148805 non-null  int64  \n",
      "dtypes: float64(7), int64(17), object(2)\n",
      "memory usage: 29.5+ MB\n"
     ]
    }
   ],
   "source": [
    "offer_df.info()"
   ]
  },
  {
   "cell_type": "code",
   "execution_count": 16,
   "id": "d6cc7b68",
   "metadata": {},
   "outputs": [
    {
     "data": {
      "text/plain": [
       "Index(['offer_completed', 'offer_recived', 'offer_viewed', 'event', 'time',\n",
       "       'offer_id', 'gender', 'age', 'became_member_on', 'income', 'age_groups',\n",
       "       'salary_groups', 'member_year', 'member_month', 'member_day',\n",
       "       'members_since_in_days', 'member_since_year', 'reward_y', 'difficulty',\n",
       "       'duration', 'offer_type', 'email', 'web', 'mobile', 'social',\n",
       "       'customer_ids'],\n",
       "      dtype='object')"
      ]
     },
     "execution_count": 16,
     "metadata": {},
     "output_type": "execute_result"
    }
   ],
   "source": [
    "offer_df.columns"
   ]
  },
  {
   "cell_type": "code",
   "execution_count": 18,
   "id": "1e214869",
   "metadata": {},
   "outputs": [],
   "source": [
    "# Split data:\n",
    "\n",
    "y = offer_df['offer_type']\n",
    "X = offer_df.loc[:,['offer_completed', 'offer_recived', 'offer_viewed', 'time', 'age', 'gender', 'income', 'member_year', \n",
    "                    'difficulty','duration', 'reward_y', 'email', 'web', 'mobile','social']]"
   ]
  },
  {
   "cell_type": "code",
   "execution_count": 19,
   "id": "5e566030",
   "metadata": {},
   "outputs": [
    {
     "data": {
      "text/html": [
       "<div>\n",
       "<style scoped>\n",
       "    .dataframe tbody tr th:only-of-type {\n",
       "        vertical-align: middle;\n",
       "    }\n",
       "\n",
       "    .dataframe tbody tr th {\n",
       "        vertical-align: top;\n",
       "    }\n",
       "\n",
       "    .dataframe thead th {\n",
       "        text-align: right;\n",
       "    }\n",
       "</style>\n",
       "<table border=\"1\" class=\"dataframe\">\n",
       "  <thead>\n",
       "    <tr style=\"text-align: right;\">\n",
       "      <th></th>\n",
       "      <th>offer_completed</th>\n",
       "      <th>offer_recived</th>\n",
       "      <th>offer_viewed</th>\n",
       "      <th>time</th>\n",
       "      <th>age</th>\n",
       "      <th>gender</th>\n",
       "      <th>income</th>\n",
       "      <th>member_year</th>\n",
       "      <th>difficulty</th>\n",
       "      <th>duration</th>\n",
       "      <th>reward_y</th>\n",
       "      <th>email</th>\n",
       "      <th>web</th>\n",
       "      <th>mobile</th>\n",
       "      <th>social</th>\n",
       "    </tr>\n",
       "  </thead>\n",
       "  <tbody>\n",
       "    <tr>\n",
       "      <th>0</th>\n",
       "      <td>0</td>\n",
       "      <td>1</td>\n",
       "      <td>0</td>\n",
       "      <td>0</td>\n",
       "      <td>75</td>\n",
       "      <td>0</td>\n",
       "      <td>100000</td>\n",
       "      <td>2017</td>\n",
       "      <td>5.0</td>\n",
       "      <td>7.0</td>\n",
       "      <td>5.0</td>\n",
       "      <td>1.0</td>\n",
       "      <td>1.0</td>\n",
       "      <td>1.0</td>\n",
       "      <td>0.0</td>\n",
       "    </tr>\n",
       "    <tr>\n",
       "      <th>1</th>\n",
       "      <td>0</td>\n",
       "      <td>0</td>\n",
       "      <td>1</td>\n",
       "      <td>6</td>\n",
       "      <td>75</td>\n",
       "      <td>0</td>\n",
       "      <td>100000</td>\n",
       "      <td>2017</td>\n",
       "      <td>5.0</td>\n",
       "      <td>7.0</td>\n",
       "      <td>5.0</td>\n",
       "      <td>1.0</td>\n",
       "      <td>1.0</td>\n",
       "      <td>1.0</td>\n",
       "      <td>0.0</td>\n",
       "    </tr>\n",
       "    <tr>\n",
       "      <th>2</th>\n",
       "      <td>1</td>\n",
       "      <td>0</td>\n",
       "      <td>0</td>\n",
       "      <td>132</td>\n",
       "      <td>75</td>\n",
       "      <td>0</td>\n",
       "      <td>100000</td>\n",
       "      <td>2017</td>\n",
       "      <td>5.0</td>\n",
       "      <td>7.0</td>\n",
       "      <td>5.0</td>\n",
       "      <td>1.0</td>\n",
       "      <td>1.0</td>\n",
       "      <td>1.0</td>\n",
       "      <td>0.0</td>\n",
       "    </tr>\n",
       "    <tr>\n",
       "      <th>3</th>\n",
       "      <td>0</td>\n",
       "      <td>1</td>\n",
       "      <td>0</td>\n",
       "      <td>168</td>\n",
       "      <td>75</td>\n",
       "      <td>0</td>\n",
       "      <td>100000</td>\n",
       "      <td>2017</td>\n",
       "      <td>0.0</td>\n",
       "      <td>3.0</td>\n",
       "      <td>0.0</td>\n",
       "      <td>1.0</td>\n",
       "      <td>0.0</td>\n",
       "      <td>1.0</td>\n",
       "      <td>1.0</td>\n",
       "    </tr>\n",
       "    <tr>\n",
       "      <th>4</th>\n",
       "      <td>0</td>\n",
       "      <td>0</td>\n",
       "      <td>1</td>\n",
       "      <td>216</td>\n",
       "      <td>75</td>\n",
       "      <td>0</td>\n",
       "      <td>100000</td>\n",
       "      <td>2017</td>\n",
       "      <td>0.0</td>\n",
       "      <td>3.0</td>\n",
       "      <td>0.0</td>\n",
       "      <td>1.0</td>\n",
       "      <td>0.0</td>\n",
       "      <td>1.0</td>\n",
       "      <td>1.0</td>\n",
       "    </tr>\n",
       "  </tbody>\n",
       "</table>\n",
       "</div>"
      ],
      "text/plain": [
       "   offer_completed  offer_recived  offer_viewed  time  age  gender  income  \\\n",
       "0                0              1             0     0   75       0  100000   \n",
       "1                0              0             1     6   75       0  100000   \n",
       "2                1              0             0   132   75       0  100000   \n",
       "3                0              1             0   168   75       0  100000   \n",
       "4                0              0             1   216   75       0  100000   \n",
       "\n",
       "   member_year  difficulty  duration  reward_y  email  web  mobile  social  \n",
       "0         2017         5.0       7.0       5.0    1.0  1.0     1.0     0.0  \n",
       "1         2017         5.0       7.0       5.0    1.0  1.0     1.0     0.0  \n",
       "2         2017         5.0       7.0       5.0    1.0  1.0     1.0     0.0  \n",
       "3         2017         0.0       3.0       0.0    1.0  0.0     1.0     1.0  \n",
       "4         2017         0.0       3.0       0.0    1.0  0.0     1.0     1.0  "
      ]
     },
     "execution_count": 19,
     "metadata": {},
     "output_type": "execute_result"
    }
   ],
   "source": [
    "X.head()"
   ]
  },
  {
   "cell_type": "code",
   "execution_count": 20,
   "id": "9c95e794",
   "metadata": {},
   "outputs": [
    {
     "data": {
      "text/plain": [
       "0    0\n",
       "1    0\n",
       "2    0\n",
       "3    2\n",
       "4    2\n",
       "Name: offer_type, dtype: int64"
      ]
     },
     "execution_count": 20,
     "metadata": {},
     "output_type": "execute_result"
    }
   ],
   "source": [
    "y.head()"
   ]
  },
  {
   "cell_type": "code",
   "execution_count": 22,
   "id": "e3be753d",
   "metadata": {},
   "outputs": [],
   "source": [
    "# Create training and testing sets:\n",
    "X_train, X_test, y_train, y_test = train_test_split(X, y, test_size=0.20, random_state=420)"
   ]
  },
  {
   "cell_type": "code",
   "execution_count": 24,
   "id": "c2f01d65",
   "metadata": {},
   "outputs": [
    {
     "name": "stdout",
     "output_type": "stream",
     "text": [
      "X training data Shape: (119044, 15)\n",
      "y training data Shape: (119044,)\n",
      "X testing data Shape: (29761, 15)\n",
      "y testing data Shape: (29761,)\n"
     ]
    }
   ],
   "source": [
    "print('X training data Shape:', X_train.shape)\n",
    "print('y training data Shape:', y_train.shape)\n",
    "print('X testing data Shape:', X_test.shape)\n",
    "print('y testing data Shape:', y_test.shape)"
   ]
  },
  {
   "cell_type": "code",
   "execution_count": 26,
   "id": "388d9168",
   "metadata": {},
   "outputs": [],
   "source": [
    "# function for checking accuracy:\n",
    "def predict_score(model, X_train, y_train, X_test, y_test):\n",
    "    '''\n",
    "    INPUT:\n",
    "       - model: the learning algorithm to be trained and predicted\n",
    "       - X_train: features training set\n",
    "       - y_train: income training set\n",
    "       - X_test: features testing set\n",
    "       - y_test: income testing set\n",
    "       \n",
    "    OUTPUT:\n",
    "        - Accuracy Scores and F Scores of the models\n",
    "    '''\n",
    "    \n",
    "    results = {}\n",
    "    \n",
    "    # Fit the model to the training data:\n",
    "    model.fit(X_train, y_train)\n",
    "    \n",
    "    # predict on the testing data:\n",
    "    pred = model.predict(X_test)\n",
    "\n",
    "    # Confusion matrix:\n",
    "    confusion_matrix(pred, y_test)\n",
    "    \n",
    "    # Accuracy for testing data:\n",
    "    results['accuracy'] = accuracy_score(pred, y_test)\n",
    "    \n",
    "    # F-score on testing data:\n",
    "    results['f_score'] = fbeta_score(y_test, pred, beta = 0.5, average='weighted')\n",
    "    \n",
    "    results['precision'] = precision_score(y_test, pred, average='micro')\n",
    "    \n",
    "    results['recall'] = recall_score(y_test, pred, average='micro')  \n",
    "    \n",
    "    return results"
   ]
  },
  {
   "cell_type": "code",
   "execution_count": 34,
   "id": "ef8e9f13",
   "metadata": {},
   "outputs": [],
   "source": [
    "# Initialize the models\n",
    "\n",
    "log = LogisticRegression(random_state=420)\n",
    "rfc = RandomForestClassifier(n_estimators = 100, random_state=420)\n",
    "knc = KNeighborsClassifier()\n",
    "gnb = GaussianNB() \n",
    "dtc = DecisionTreeClassifier()"
   ]
  },
  {
   "cell_type": "code",
   "execution_count": 35,
   "id": "c830db61",
   "metadata": {},
   "outputs": [],
   "source": [
    "# Collect results on the models:\n",
    "\n",
    "results = {}\n",
    "for model in [log, rfc, knc, gnb, dtc]:\n",
    "    model_name = model.__class__.__name__\n",
    "    results[model_name] = {}\n",
    "    results[model_name] = predict_score(model, X_train, y_train, X_test, y_test)"
   ]
  },
  {
   "cell_type": "code",
   "execution_count": 36,
   "id": "49d45edb",
   "metadata": {},
   "outputs": [
    {
     "name": "stdout",
     "output_type": "stream",
     "text": [
      "LogisticRegression\n"
     ]
    },
    {
     "data": {
      "text/html": [
       "<div>\n",
       "<style scoped>\n",
       "    .dataframe tbody tr th:only-of-type {\n",
       "        vertical-align: middle;\n",
       "    }\n",
       "\n",
       "    .dataframe tbody tr th {\n",
       "        vertical-align: top;\n",
       "    }\n",
       "\n",
       "    .dataframe thead th {\n",
       "        text-align: right;\n",
       "    }\n",
       "</style>\n",
       "<table border=\"1\" class=\"dataframe\">\n",
       "  <thead>\n",
       "    <tr style=\"text-align: right;\">\n",
       "      <th></th>\n",
       "      <th>accuracy</th>\n",
       "      <th>f_score</th>\n",
       "      <th>precision</th>\n",
       "      <th>recall</th>\n",
       "    </tr>\n",
       "  </thead>\n",
       "  <tbody>\n",
       "    <tr>\n",
       "      <th>0</th>\n",
       "      <td>0.871678</td>\n",
       "      <td>0.872551</td>\n",
       "      <td>0.871678</td>\n",
       "      <td>0.871678</td>\n",
       "    </tr>\n",
       "  </tbody>\n",
       "</table>\n",
       "</div>"
      ],
      "text/plain": [
       "   accuracy   f_score  precision    recall\n",
       "0  0.871678  0.872551   0.871678  0.871678"
      ]
     },
     "metadata": {},
     "output_type": "display_data"
    },
    {
     "name": "stdout",
     "output_type": "stream",
     "text": [
      "RandomForestClassifier\n"
     ]
    },
    {
     "data": {
      "text/html": [
       "<div>\n",
       "<style scoped>\n",
       "    .dataframe tbody tr th:only-of-type {\n",
       "        vertical-align: middle;\n",
       "    }\n",
       "\n",
       "    .dataframe tbody tr th {\n",
       "        vertical-align: top;\n",
       "    }\n",
       "\n",
       "    .dataframe thead th {\n",
       "        text-align: right;\n",
       "    }\n",
       "</style>\n",
       "<table border=\"1\" class=\"dataframe\">\n",
       "  <thead>\n",
       "    <tr style=\"text-align: right;\">\n",
       "      <th></th>\n",
       "      <th>accuracy</th>\n",
       "      <th>f_score</th>\n",
       "      <th>precision</th>\n",
       "      <th>recall</th>\n",
       "    </tr>\n",
       "  </thead>\n",
       "  <tbody>\n",
       "    <tr>\n",
       "      <th>0</th>\n",
       "      <td>1.0</td>\n",
       "      <td>1.0</td>\n",
       "      <td>1.0</td>\n",
       "      <td>1.0</td>\n",
       "    </tr>\n",
       "  </tbody>\n",
       "</table>\n",
       "</div>"
      ],
      "text/plain": [
       "   accuracy  f_score  precision  recall\n",
       "0       1.0      1.0        1.0     1.0"
      ]
     },
     "metadata": {},
     "output_type": "display_data"
    },
    {
     "name": "stdout",
     "output_type": "stream",
     "text": [
      "KNeighborsClassifier\n"
     ]
    },
    {
     "data": {
      "text/html": [
       "<div>\n",
       "<style scoped>\n",
       "    .dataframe tbody tr th:only-of-type {\n",
       "        vertical-align: middle;\n",
       "    }\n",
       "\n",
       "    .dataframe tbody tr th {\n",
       "        vertical-align: top;\n",
       "    }\n",
       "\n",
       "    .dataframe thead th {\n",
       "        text-align: right;\n",
       "    }\n",
       "</style>\n",
       "<table border=\"1\" class=\"dataframe\">\n",
       "  <thead>\n",
       "    <tr style=\"text-align: right;\">\n",
       "      <th></th>\n",
       "      <th>accuracy</th>\n",
       "      <th>f_score</th>\n",
       "      <th>precision</th>\n",
       "      <th>recall</th>\n",
       "    </tr>\n",
       "  </thead>\n",
       "  <tbody>\n",
       "    <tr>\n",
       "      <th>0</th>\n",
       "      <td>0.819865</td>\n",
       "      <td>0.824048</td>\n",
       "      <td>0.819865</td>\n",
       "      <td>0.819865</td>\n",
       "    </tr>\n",
       "  </tbody>\n",
       "</table>\n",
       "</div>"
      ],
      "text/plain": [
       "   accuracy   f_score  precision    recall\n",
       "0  0.819865  0.824048   0.819865  0.819865"
      ]
     },
     "metadata": {},
     "output_type": "display_data"
    },
    {
     "name": "stdout",
     "output_type": "stream",
     "text": [
      "GaussianNB\n"
     ]
    },
    {
     "data": {
      "text/html": [
       "<div>\n",
       "<style scoped>\n",
       "    .dataframe tbody tr th:only-of-type {\n",
       "        vertical-align: middle;\n",
       "    }\n",
       "\n",
       "    .dataframe tbody tr th {\n",
       "        vertical-align: top;\n",
       "    }\n",
       "\n",
       "    .dataframe thead th {\n",
       "        text-align: right;\n",
       "    }\n",
       "</style>\n",
       "<table border=\"1\" class=\"dataframe\">\n",
       "  <thead>\n",
       "    <tr style=\"text-align: right;\">\n",
       "      <th></th>\n",
       "      <th>accuracy</th>\n",
       "      <th>f_score</th>\n",
       "      <th>precision</th>\n",
       "      <th>recall</th>\n",
       "    </tr>\n",
       "  </thead>\n",
       "  <tbody>\n",
       "    <tr>\n",
       "      <th>0</th>\n",
       "      <td>1.0</td>\n",
       "      <td>1.0</td>\n",
       "      <td>1.0</td>\n",
       "      <td>1.0</td>\n",
       "    </tr>\n",
       "  </tbody>\n",
       "</table>\n",
       "</div>"
      ],
      "text/plain": [
       "   accuracy  f_score  precision  recall\n",
       "0       1.0      1.0        1.0     1.0"
      ]
     },
     "metadata": {},
     "output_type": "display_data"
    },
    {
     "name": "stdout",
     "output_type": "stream",
     "text": [
      "DecisionTreeClassifier\n"
     ]
    },
    {
     "data": {
      "text/html": [
       "<div>\n",
       "<style scoped>\n",
       "    .dataframe tbody tr th:only-of-type {\n",
       "        vertical-align: middle;\n",
       "    }\n",
       "\n",
       "    .dataframe tbody tr th {\n",
       "        vertical-align: top;\n",
       "    }\n",
       "\n",
       "    .dataframe thead th {\n",
       "        text-align: right;\n",
       "    }\n",
       "</style>\n",
       "<table border=\"1\" class=\"dataframe\">\n",
       "  <thead>\n",
       "    <tr style=\"text-align: right;\">\n",
       "      <th></th>\n",
       "      <th>accuracy</th>\n",
       "      <th>f_score</th>\n",
       "      <th>precision</th>\n",
       "      <th>recall</th>\n",
       "    </tr>\n",
       "  </thead>\n",
       "  <tbody>\n",
       "    <tr>\n",
       "      <th>0</th>\n",
       "      <td>1.0</td>\n",
       "      <td>1.0</td>\n",
       "      <td>1.0</td>\n",
       "      <td>1.0</td>\n",
       "    </tr>\n",
       "  </tbody>\n",
       "</table>\n",
       "</div>"
      ],
      "text/plain": [
       "   accuracy  f_score  precision  recall\n",
       "0       1.0      1.0        1.0     1.0"
      ]
     },
     "metadata": {},
     "output_type": "display_data"
    }
   ],
   "source": [
    "# Display results:\n",
    "\n",
    "for ele in results.items():\n",
    "    print (ele[0])\n",
    "    display(pd.DataFrame(ele[1], index=range(1)))"
   ]
  },
  {
   "cell_type": "markdown",
   "id": "a58d83c0",
   "metadata": {},
   "source": [
    "## Model Refinement:\n",
    "\n",
    "Accuracy score, F1 score, recall score and precisioni score is 100% for testing datasets for RandomForestClassifier, LogisticRegression, GaussianNB, DecisionTreeClassifier which can lead to overfitting\n",
    "\n",
    "So, we choose KNeighborsClassifier.\n",
    "\n",
    "It has good results of 0.81 on testing datasets.\n",
    "Since we have few multinomial outcomes ( BOGO = 1, discount = 2, informational = 3 ) we can use KNeighborsClassifier.\n",
    "Accuracy and precision and recall scores are same for KNeighborsClassifier, with (0.81). \n",
    "\n",
    "I will choose KNeighborsClassifier model for further refinement with GridSearchCV.\n",
    "\n",
    "Since accuracy and precision scores are in this model, will consider precision value as a optimal for this particular dataset for correct positive predictions.\n",
    "\n",
    "## Hyper parameter tuning of KNeighborsClassifier to increase the accuracy\n",
    "\n",
    "It is possible to improve the performance of the model from it base instance by tuning hyperparameters of that algorithm.\n",
    "\n",
    "We will define a range of values that would be evaluated in the hyper parameter space of the for KNeighborsClassifier model using GridSearchCV.\n",
    "\n",
    "{\"n_neighbors\" :list(range(20,30)), \"p\" : [1]} are the grid parameters that we are using in this data set.\n",
    "\n",
    "Initializing random_state to arbitrary number 42 because the seed will be set common for this model.\n",
    "\n",
    "Here we are using the RepeatedStratifiedKFold class. And RepeatedKFold with an appropriate number of folds and repeats, such as 10 folds and three repeats."
   ]
  },
  {
   "cell_type": "code",
   "execution_count": 38,
   "id": "32ddb143",
   "metadata": {},
   "outputs": [
    {
     "data": {
      "text/plain": [
       "0.8967104599979839"
      ]
     },
     "execution_count": 38,
     "metadata": {},
     "output_type": "execute_result"
    }
   ],
   "source": [
    "model = KNeighborsClassifier()\n",
    "\n",
    "para_grid = {\"n_neighbors\" :list(range(20,30)), \n",
    "             \"p\" : [1]}\n",
    "\n",
    "cv = RepeatedStratifiedKFold(n_splits = 10, n_repeats = 3, random_state = 42)\n",
    "\n",
    "grid_search = GridSearchCV(estimator = model, param_grid = para_grid, n_jobs=-1, cv=cv, scoring='accuracy', error_score=0)\n",
    "grid_result = grid_search.fit(X_train, y_train)\n",
    "\n",
    "y_pred = grid_result.predict(X_test)\n",
    "accuracy_score(y_pred, y_test)"
   ]
  },
  {
   "cell_type": "code",
   "execution_count": 39,
   "id": "bf7c0066",
   "metadata": {},
   "outputs": [
    {
     "data": {
      "text/plain": [
       "array([[11846,  1391,   472],\n",
       "       [  905, 11147,   302],\n",
       "       [    3,     1,  3694]], dtype=int64)"
      ]
     },
     "execution_count": 39,
     "metadata": {},
     "output_type": "execute_result"
    }
   ],
   "source": [
    "# Confusion matrix:\n",
    "\n",
    "confusion_matrix(y_pred, y_test)"
   ]
  },
  {
   "cell_type": "code",
   "execution_count": 42,
   "id": "351275dc",
   "metadata": {},
   "outputs": [
    {
     "data": {
      "text/plain": [
       "{'n_neighbors': 21, 'p': 1}"
      ]
     },
     "execution_count": 42,
     "metadata": {},
     "output_type": "execute_result"
    }
   ],
   "source": [
    "# find the best parameter values:\n",
    "\n",
    "best_parameters = grid_result.best_params_\n",
    "best_parameters"
   ]
  },
  {
   "cell_type": "markdown",
   "id": "d90af2d7",
   "metadata": {},
   "source": [
    "the final model parameters that we have selected for this data set are {'n_neighbors' = 21, 'p' = 1}"
   ]
  },
  {
   "cell_type": "code",
   "execution_count": 43,
   "id": "e1e6a3b3",
   "metadata": {},
   "outputs": [
    {
     "data": {
      "text/plain": [
       "{'accuracy': 0.8967104599979839,\n",
       " 'f_score': 0.8985373951935525,\n",
       " 'precision': 0.8967104599979839,\n",
       " 'recall': 0.8967104599979839}"
      ]
     },
     "execution_count": 43,
     "metadata": {},
     "output_type": "execute_result"
    }
   ],
   "source": [
    "# instantiate model with best parameters:\n",
    "\n",
    "predict_score(KNeighborsClassifier(n_neighbors = 21, p = 1), X_train, y_train, X_test, y_test)"
   ]
  },
  {
   "cell_type": "markdown",
   "id": "790a8a2a",
   "metadata": {},
   "source": [
    "The best scores achieved after tuning, its essential hyper-parameters {'n_neighbors' = 21, 'p' = 1} by KNeighborsClassifier : testing accuracy is 0.89 (89%)\n",
    "\n",
    "Testing accuracy has increased after hyperparameter tunning."
   ]
  },
  {
   "cell_type": "code",
   "execution_count": 44,
   "id": "f1324db6",
   "metadata": {},
   "outputs": [
    {
     "data": {
      "image/png": "[encoded data removed]",
      "text/plain": [
       "<Figure size 1440x360 with 1 Axes>"
      ]
     },
     "metadata": {
      "needs_background": "light"
     },
     "output_type": "display_data"
    }
   ],
   "source": [
    "# Graph to display actual and predict values:\n",
    "\n",
    "plt.figure(figsize=[20,5])\n",
    "ax1 = sb.kdeplot(data=y_test, color=\"r\", label='Actual values')\n",
    "ax2 = sb.kdeplot(data=y_pred, color=\"b\", label='Predicted values')\n",
    "plt.legend();"
   ]
  },
  {
   "cell_type": "markdown",
   "id": "31c49481",
   "metadata": {},
   "source": [
    "## Evalute the model accuracy:"
   ]
  },
  {
   "cell_type": "code",
   "execution_count": 45,
   "id": "2565c382",
   "metadata": {},
   "outputs": [
    {
     "data": {
      "text/plain": [
       "Index(['offer_completed', 'offer_recived', 'offer_viewed', 'time', 'age',\n",
       "       'gender', 'income', 'member_year', 'difficulty', 'duration', 'reward_y',\n",
       "       'email', 'web', 'mobile', 'social'],\n",
       "      dtype='object')"
      ]
     },
     "execution_count": 45,
     "metadata": {},
     "output_type": "execute_result"
    }
   ],
   "source": [
    "X.columns"
   ]
  },
  {
   "cell_type": "code",
   "execution_count": 46,
   "id": "f538b28e",
   "metadata": {},
   "outputs": [
    {
     "data": {
      "text/plain": [
       "offer_completed        0.0\n",
       "offer_recived          1.0\n",
       "offer_viewed           0.0\n",
       "time                 576.0\n",
       "age                   66.0\n",
       "gender                 0.0\n",
       "income             32000.0\n",
       "member_year         2018.0\n",
       "difficulty            10.0\n",
       "duration               7.0\n",
       "reward_y              10.0\n",
       "email                  1.0\n",
       "web                    0.0\n",
       "mobile                 1.0\n",
       "social                 1.0\n",
       "Name: 2275, dtype: float64"
      ]
     },
     "execution_count": 46,
     "metadata": {},
     "output_type": "execute_result"
    }
   ],
   "source": [
    "X.iloc[2275,:]"
   ]
  },
  {
   "cell_type": "code",
   "execution_count": 47,
   "id": "34b4c89c",
   "metadata": {},
   "outputs": [
    {
     "data": {
      "text/plain": [
       "0"
      ]
     },
     "execution_count": 47,
     "metadata": {},
     "output_type": "execute_result"
    }
   ],
   "source": [
    "y.iloc[2275]"
   ]
  },
  {
   "cell_type": "markdown",
   "id": "d08eac33",
   "metadata": {},
   "source": [
    "## Now lets evaluate our model to check its accuracy:"
   ]
  },
  {
   "cell_type": "code",
   "execution_count": 49,
   "id": "3a1735fb",
   "metadata": {},
   "outputs": [],
   "source": [
    "customer_data = [0.0, 1.0, 0.0, 576.0, 66.0, 0.0, 32000.0, 2018.0, 10.0, 7.0, 10.0, 1.0, 0.0, 1.0, 1.0]"
   ]
  },
  {
   "cell_type": "code",
   "execution_count": 50,
   "id": "eec7bd3f",
   "metadata": {},
   "outputs": [
    {
     "data": {
      "text/plain": [
       "array([0], dtype=int64)"
      ]
     },
     "execution_count": 50,
     "metadata": {},
     "output_type": "execute_result"
    }
   ],
   "source": [
    "grid_result.predict([customer_data])"
   ]
  },
  {
   "cell_type": "code",
   "execution_count": 51,
   "id": "3b49f79a",
   "metadata": {},
   "outputs": [
    {
     "data": {
      "text/plain": [
       "offer_completed         1.0\n",
       "offer_recived           0.0\n",
       "offer_viewed            0.0\n",
       "time                  132.0\n",
       "age                    75.0\n",
       "gender                  0.0\n",
       "income             100000.0\n",
       "member_year          2017.0\n",
       "difficulty              5.0\n",
       "duration                7.0\n",
       "reward_y                5.0\n",
       "email                   1.0\n",
       "web                     1.0\n",
       "mobile                  1.0\n",
       "social                  0.0\n",
       "Name: 2, dtype: float64"
      ]
     },
     "execution_count": 51,
     "metadata": {},
     "output_type": "execute_result"
    }
   ],
   "source": [
    "X.iloc[2,:]"
   ]
  },
  {
   "cell_type": "code",
   "execution_count": 52,
   "id": "f581d35c",
   "metadata": {},
   "outputs": [
    {
     "data": {
      "text/plain": [
       "0"
      ]
     },
     "execution_count": 52,
     "metadata": {},
     "output_type": "execute_result"
    }
   ],
   "source": [
    "y.iloc[2275]"
   ]
  },
  {
   "cell_type": "code",
   "execution_count": 53,
   "id": "52291c8e",
   "metadata": {},
   "outputs": [
    {
     "data": {
      "text/plain": [
       "array([0], dtype=int64)"
      ]
     },
     "execution_count": 53,
     "metadata": {},
     "output_type": "execute_result"
    }
   ],
   "source": [
    "customer_data1 = [1.0, 0.0, 0.0, 132.0, 75.0, 0.0, 100000.0, 2017.0, 5.0, 7.0, 5.0, 1.0, 1.0, 1.0, 0.0]\n",
    "grid_result.predict([customer_data1])"
   ]
  },
  {
   "cell_type": "code",
   "execution_count": 54,
   "id": "d740d9fe",
   "metadata": {},
   "outputs": [
    {
     "name": "stdout",
     "output_type": "stream",
     "text": [
      "              precision    recall  f1-score   support\n",
      "\n",
      "           0       0.93      0.86      0.90     13709\n",
      "           1       0.89      0.90      0.90     12354\n",
      "           2       0.83      1.00      0.90      3698\n",
      "\n",
      "    accuracy                           0.90     29761\n",
      "   macro avg       0.88      0.92      0.90     29761\n",
      "weighted avg       0.90      0.90      0.90     29761\n",
      "\n"
     ]
    },
    {
     "data": {
      "text/plain": [
       "0.8967104599979839"
      ]
     },
     "execution_count": 54,
     "metadata": {},
     "output_type": "execute_result"
    }
   ],
   "source": [
    "clf_1 = KNeighborsClassifier(n_neighbors = 21, p = 1)\n",
    "clf_1.fit(X_train, y_train)\n",
    "\n",
    "y_p = clf_1.predict(X_test)\n",
    "\n",
    "print(classification_report(y_p, y_test))\n",
    "accuracy_score(y_p, y_test)\n",
    "precision_score(y_p, y_test, average='micro')"
   ]
  },
  {
   "cell_type": "markdown",
   "id": "77d42eeb",
   "metadata": {},
   "source": [
    "The model has correctly predicted that the customer will likely respond tor BOGO offer type with an accuracy of 89%.\n",
    "\n",
    "Hence our model has good accuracy for prediction.\n",
    "\n",
    "KNeighborsClassifier turned out to be the best algorithm for this task and predicts customer response with an accuracy rate of almost 89% after hyperarameter tuning. Given the fact that also the same customer will react differently the same offer."
   ]
  }
 ],
 "metadata": {
  "kernelspec": {
   "display_name": "Python 3 (ipykernel)",
   "language": "python",
   "name": "python3"
  },
  "language_info": {
   "codemirror_mode": {
    "name": "ipython",
    "version": 3
   },
   "file_extension": ".py",
   "mimetype": "text/x-python",
   "name": "python",
   "nbconvert_exporter": "python",
   "pygments_lexer": "ipython3",
   "version": "3.9.12"
  }
 },
 "nbformat": 4,
 "nbformat_minor": 5
}
