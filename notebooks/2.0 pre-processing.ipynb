{
 "cells": [
  {
   "cell_type": "markdown",
   "id": "cb8fbad1",
   "metadata": {},
   "source": [
    "# AIMS\n",
    "\n",
    "pre processing portfolio dataset:\n",
    "\n",
    "- rename id column.\n",
    "- one hot encode for channel column.\n",
    "\n",
    "pre processing profile dataset:\n",
    "\n",
    "- check the age column for extreme values (118)\n",
    "- create readable date format in became_member_on column\n",
    "- extract its year, month and day from became_member_on column add to columns (for further analysis)\n",
    "- create new column grouped with age group\n",
    "- create new column grouped with salary group\n",
    "- fillna with median values and change its datatype\n",
    "- rename the id columns for ease of understanding\n",
    "- create new column grouped with member_since group:\n",
    "\n",
    "pre processing transcript dataset:\n",
    "\n",
    "- rename the id columns for ease of understanding.\n",
    "- Create new columns offer_id, amount and reward from value column.\n",
    "- Replace null value with 0 to amount column.\n",
    "- Drop value column.\n",
    "- One hot encode for event column."
   ]
  },
  {
   "cell_type": "code",
   "execution_count": 3,
   "id": "7b22068c",
   "metadata": {},
   "outputs": [],
   "source": [
    "%load_ext autoreload\n",
    "%autoreload 2"
   ]
  },
  {
   "cell_type": "code",
   "execution_count": 21,
   "id": "d810c199",
   "metadata": {},
   "outputs": [],
   "source": [
    "import pandas as pd\n",
    "import json\n",
    "\n",
    "import datetime\n",
    "\n",
    "pd.set_option('display.max_columns', None)\n",
    "pd.set_option('display.max_rows', None)\n",
    "import warnings\n",
    "warnings.filterwarnings(\"ignore\")"
   ]
  },
  {
   "cell_type": "code",
   "execution_count": 6,
   "id": "b95201e6",
   "metadata": {},
   "outputs": [],
   "source": [
    "import sys\n",
    "sys.path.append(\"../\") \n",
    "\n",
    "import utils.paths as path\n",
    "from utils.paths2 import direcciones"
   ]
  },
  {
   "cell_type": "code",
   "execution_count": 7,
   "id": "6b3f5e2e",
   "metadata": {},
   "outputs": [],
   "source": [
    "# Crear los de drive\n",
    "G_raw, G_processed, G_interim, G_external, G_models, G_reports, G_reports_figures = direcciones('starbucks')"
   ]
  },
  {
   "cell_type": "code",
   "execution_count": 13,
   "id": "62f4ef1d",
   "metadata": {},
   "outputs": [],
   "source": [
    "# json \n",
    "portfolio = pd.read_json(path.data_raw_dir('portfolio.json'), orient='records', lines=True)\n",
    "# G_portfolio = pd.read_json(G_raw/'portfolio.json', orient='records', lines=True)\n",
    "profile = pd.read_json(path.data_raw_dir('profile.json'), orient='records', lines=True)\n",
    "# transcript = pd.read_json(path.data_raw_dir('transcript.json'), orient='records', lines=True)"
   ]
  },
  {
   "cell_type": "markdown",
   "id": "7bafece2",
   "metadata": {},
   "source": [
    "## Portfolio dataset"
   ]
  },
  {
   "cell_type": "code",
   "execution_count": 9,
   "id": "3677cef2",
   "metadata": {},
   "outputs": [],
   "source": [
    "# rename the id columns for ease of understanding:\n",
    "portfolio.rename(columns = {'id': 'offer_id'}, inplace = True)"
   ]
  },
  {
   "cell_type": "code",
   "execution_count": 10,
   "id": "120bc687",
   "metadata": {},
   "outputs": [],
   "source": [
    "# One-hot encode : channels column:\n",
    "\n",
    "portfolio['email'] = portfolio['channels'].apply(lambda ele: 1 if 'email' in ele else 0)\n",
    "portfolio['web'] = portfolio['channels'].apply(lambda ele: 1 if 'web' in ele else 0)\n",
    "portfolio['mobile'] = portfolio['channels'].apply(lambda ele: 1 if 'mobile' in ele else 0)\n",
    "portfolio['social'] = portfolio['channels'].apply(lambda ele: 1 if 'social' in ele else 0)"
   ]
  },
  {
   "cell_type": "code",
   "execution_count": null,
   "id": "f022ae23",
   "metadata": {},
   "outputs": [],
   "source": [
    "# save data\n",
    "portfolio.to_csv(path.data_processed_dir(\"portfolio.csv\"), index=False)\n",
    "portfolio.to_csv(G_processed/\"portfolio.csv\", index=False)"
   ]
  },
  {
   "cell_type": "markdown",
   "id": "3c77e3db",
   "metadata": {},
   "source": [
    "## Profile dataset"
   ]
  },
  {
   "cell_type": "code",
   "execution_count": 14,
   "id": "a1fdc34e",
   "metadata": {},
   "outputs": [],
   "source": [
    "# check the age column for extreme values (118) and replace it with 0:\n",
    "\n",
    "profile['age'] = profile['age'].apply(lambda ele: 0 if ele == 118 else ele)"
   ]
  },
  {
   "cell_type": "code",
   "execution_count": 15,
   "id": "f9468029",
   "metadata": {},
   "outputs": [],
   "source": [
    "# fill median values to income\n",
    "\n",
    "profile['income'].fillna((profile['income'].median()), inplace=True)"
   ]
  },
  {
   "cell_type": "code",
   "execution_count": 16,
   "id": "459ba3da",
   "metadata": {},
   "outputs": [],
   "source": [
    "# change income datatype:\n",
    "\n",
    "profile['income'] = profile['income'].astype('int')"
   ]
  },
  {
   "cell_type": "code",
   "execution_count": 17,
   "id": "f1ac2546",
   "metadata": {},
   "outputs": [],
   "source": [
    "# rename the id columns for ease of understanding:\n",
    "\n",
    "profile.rename(columns = {'id': 'customer_id'}, inplace = True)"
   ]
  },
  {
   "cell_type": "code",
   "execution_count": 18,
   "id": "2cca4cf1",
   "metadata": {},
   "outputs": [],
   "source": [
    "# create new column grouped with age group:\n",
    "\n",
    "def Ages(ele):\n",
    "        if ele < 20:\n",
    "            return 1\n",
    "        elif 21 < ele <= 30:\n",
    "            return 2\n",
    "        elif 31 <= ele <= 40:\n",
    "            return 3\n",
    "        elif 41 <= ele <= 50:\n",
    "            return 4\n",
    "        elif 51 <= ele <= 60:\n",
    "            return 5\n",
    "        elif 61 <= ele <= 70:\n",
    "            return 6\n",
    "        elif 71 <= ele <= 80:\n",
    "            return 7\n",
    "        elif 81 <= ele <= 90:\n",
    "            return 8\n",
    "        elif 91 <= ele <= 101:\n",
    "            return 9\n",
    "        else:\n",
    "            return 10\n",
    "            \n",
    "profile['age_groups'] = profile['age'].apply(Ages)"
   ]
  },
  {
   "cell_type": "code",
   "execution_count": 19,
   "id": "30ba04ee",
   "metadata": {},
   "outputs": [],
   "source": [
    "# create new column grouped with salary group:\n",
    "\n",
    "def Salarys(ele):\n",
    "        if ele < 30000:\n",
    "            return 1\n",
    "        elif 30001 < ele <= 40000:\n",
    "            return 2\n",
    "        elif 40001 <= ele <= 50000:\n",
    "            return 3\n",
    "        elif 50001 <= ele <= 60000:\n",
    "            return 4\n",
    "        elif 60001 <= ele <= 70000:\n",
    "            return 5\n",
    "        elif 70001 <= ele <= 80000:\n",
    "            return 6\n",
    "        elif 80001 <= ele <= 90000:\n",
    "            return 7\n",
    "        elif 90001 <= ele <= 100000:\n",
    "            return 8\n",
    "        elif 100001 <= ele <= 110000:\n",
    "            return 9\n",
    "        elif 110001 <= ele <= 120000:\n",
    "            return 10\n",
    "        elif 120001 <= ele <= 150000:\n",
    "            return 10\n",
    "        else:\n",
    "            return 0\n",
    "            \n",
    "profile['salary_groups'] = profile['income'].apply(Salarys)"
   ]
  },
  {
   "cell_type": "code",
   "execution_count": 20,
   "id": "d821f9d5",
   "metadata": {},
   "outputs": [],
   "source": [
    "# extract its year, month and day from became_member_on column add to columns (for further analysis):\n",
    "\n",
    "profile['became_member_on'] = pd.to_datetime(profile['became_member_on'], format='%Y%m%d')\n",
    "profile['member_year'] = profile['became_member_on'].dt.year\n",
    "profile['member_month'] = profile['became_member_on'].dt.month\n",
    "profile['member_day'] = profile['became_member_on'].dt.day"
   ]
  },
  {
   "cell_type": "code",
   "execution_count": 22,
   "id": "6da23bb5",
   "metadata": {},
   "outputs": [],
   "source": [
    "# create readable date format in became_member_on column:\n",
    "\n",
    "profile['members_since_in_days'] = datetime.datetime.today().date() - profile['became_member_on'].dt.date\n",
    "profile['members_since_in_days'] = profile['members_since_in_days'].dt.days"
   ]
  },
  {
   "cell_type": "code",
   "execution_count": 23,
   "id": "d1c8b032",
   "metadata": {},
   "outputs": [],
   "source": [
    "# create new column grouped with member_since group:\n",
    "\n",
    "def Year(ele):\n",
    "    if 744 <= ele <= 3*365:\n",
    "        return 2\n",
    "    elif 3*365 <= ele <= 4*365:\n",
    "        return 3\n",
    "    elif 4*365 <= ele <= 5*365:\n",
    "        return 4\n",
    "    elif 5*365 <= ele <= 6*365:\n",
    "        return 5\n",
    "    elif 6*365 <= ele <= 7*365:\n",
    "        return 6\n",
    "    elif 7*365 <= ele <= 8*365:\n",
    "        return 7\n",
    "    elif 8*365 <= ele <= 9*365:\n",
    "        return 8\n",
    "    else:\n",
    "        return 0\n",
    "            \n",
    "profile['member_since_year'] = profile['members_since_in_days'].apply(Year)"
   ]
  },
  {
   "cell_type": "code",
   "execution_count": 25,
   "id": "506352a6",
   "metadata": {},
   "outputs": [
    {
     "name": "stdout",
     "output_type": "stream",
     "text": [
      "<class 'pandas.core.frame.DataFrame'>\n",
      "RangeIndex: 17000 entries, 0 to 16999\n",
      "Data columns (total 12 columns):\n",
      " #   Column                 Non-Null Count  Dtype         \n",
      "---  ------                 --------------  -----         \n",
      " 0   gender                 14825 non-null  object        \n",
      " 1   age                    17000 non-null  int64         \n",
      " 2   customer_id            17000 non-null  object        \n",
      " 3   became_member_on       17000 non-null  datetime64[ns]\n",
      " 4   income                 17000 non-null  int32         \n",
      " 5   age_groups             17000 non-null  int64         \n",
      " 6   salary_groups          17000 non-null  int64         \n",
      " 7   member_year            17000 non-null  int64         \n",
      " 8   member_month           17000 non-null  int64         \n",
      " 9   member_day             17000 non-null  int64         \n",
      " 10  members_since_in_days  17000 non-null  int64         \n",
      " 11  member_since_year      17000 non-null  int64         \n",
      "dtypes: datetime64[ns](1), int32(1), int64(8), object(2)\n",
      "memory usage: 1.5+ MB\n"
     ]
    }
   ],
   "source": [
    "profile.info()"
   ]
  },
  {
   "cell_type": "code",
   "execution_count": 26,
   "id": "28a8eb77",
   "metadata": {},
   "outputs": [],
   "source": [
    "# Remove null values:\n",
    "\n",
    "profile.dropna(inplace = True)"
   ]
  },
  {
   "cell_type": "code",
   "execution_count": 27,
   "id": "928177cb",
   "metadata": {},
   "outputs": [
    {
     "name": "stdout",
     "output_type": "stream",
     "text": [
      "<class 'pandas.core.frame.DataFrame'>\n",
      "Int64Index: 14825 entries, 1 to 16999\n",
      "Data columns (total 12 columns):\n",
      " #   Column                 Non-Null Count  Dtype         \n",
      "---  ------                 --------------  -----         \n",
      " 0   gender                 14825 non-null  object        \n",
      " 1   age                    14825 non-null  int64         \n",
      " 2   customer_id            14825 non-null  object        \n",
      " 3   became_member_on       14825 non-null  datetime64[ns]\n",
      " 4   income                 14825 non-null  int32         \n",
      " 5   age_groups             14825 non-null  int64         \n",
      " 6   salary_groups          14825 non-null  int64         \n",
      " 7   member_year            14825 non-null  int64         \n",
      " 8   member_month           14825 non-null  int64         \n",
      " 9   member_day             14825 non-null  int64         \n",
      " 10  members_since_in_days  14825 non-null  int64         \n",
      " 11  member_since_year      14825 non-null  int64         \n",
      "dtypes: datetime64[ns](1), int32(1), int64(8), object(2)\n",
      "memory usage: 1.4+ MB\n"
     ]
    }
   ],
   "source": [
    "profile.info()"
   ]
  },
  {
   "cell_type": "code",
   "execution_count": 28,
   "id": "4cb848d7",
   "metadata": {},
   "outputs": [
    {
     "data": {
      "text/html": [
       "<div>\n",
       "<style scoped>\n",
       "    .dataframe tbody tr th:only-of-type {\n",
       "        vertical-align: middle;\n",
       "    }\n",
       "\n",
       "    .dataframe tbody tr th {\n",
       "        vertical-align: top;\n",
       "    }\n",
       "\n",
       "    .dataframe thead th {\n",
       "        text-align: right;\n",
       "    }\n",
       "</style>\n",
       "<table border=\"1\" class=\"dataframe\">\n",
       "  <thead>\n",
       "    <tr style=\"text-align: right;\">\n",
       "      <th></th>\n",
       "      <th>gender</th>\n",
       "      <th>age</th>\n",
       "      <th>customer_id</th>\n",
       "      <th>became_member_on</th>\n",
       "      <th>income</th>\n",
       "      <th>age_groups</th>\n",
       "      <th>salary_groups</th>\n",
       "      <th>member_year</th>\n",
       "      <th>member_month</th>\n",
       "      <th>member_day</th>\n",
       "      <th>members_since_in_days</th>\n",
       "      <th>member_since_year</th>\n",
       "    </tr>\n",
       "  </thead>\n",
       "  <tbody>\n",
       "    <tr>\n",
       "      <th>1</th>\n",
       "      <td>F</td>\n",
       "      <td>55</td>\n",
       "      <td>0610b486422d4921ae7d2bf64640c50b</td>\n",
       "      <td>2017-07-15</td>\n",
       "      <td>112000</td>\n",
       "      <td>5</td>\n",
       "      <td>10</td>\n",
       "      <td>2017</td>\n",
       "      <td>7</td>\n",
       "      <td>15</td>\n",
       "      <td>1904</td>\n",
       "      <td>5</td>\n",
       "    </tr>\n",
       "    <tr>\n",
       "      <th>3</th>\n",
       "      <td>F</td>\n",
       "      <td>75</td>\n",
       "      <td>78afa995795e4d85b5d9ceeca43f5fef</td>\n",
       "      <td>2017-05-09</td>\n",
       "      <td>100000</td>\n",
       "      <td>7</td>\n",
       "      <td>8</td>\n",
       "      <td>2017</td>\n",
       "      <td>5</td>\n",
       "      <td>9</td>\n",
       "      <td>1971</td>\n",
       "      <td>5</td>\n",
       "    </tr>\n",
       "    <tr>\n",
       "      <th>5</th>\n",
       "      <td>M</td>\n",
       "      <td>68</td>\n",
       "      <td>e2127556f4f64592b11af22de27a7932</td>\n",
       "      <td>2018-04-26</td>\n",
       "      <td>70000</td>\n",
       "      <td>6</td>\n",
       "      <td>5</td>\n",
       "      <td>2018</td>\n",
       "      <td>4</td>\n",
       "      <td>26</td>\n",
       "      <td>1619</td>\n",
       "      <td>4</td>\n",
       "    </tr>\n",
       "    <tr>\n",
       "      <th>8</th>\n",
       "      <td>M</td>\n",
       "      <td>65</td>\n",
       "      <td>389bc3fa690240e798340f5a15918d5c</td>\n",
       "      <td>2018-02-09</td>\n",
       "      <td>53000</td>\n",
       "      <td>6</td>\n",
       "      <td>4</td>\n",
       "      <td>2018</td>\n",
       "      <td>2</td>\n",
       "      <td>9</td>\n",
       "      <td>1695</td>\n",
       "      <td>4</td>\n",
       "    </tr>\n",
       "    <tr>\n",
       "      <th>12</th>\n",
       "      <td>M</td>\n",
       "      <td>58</td>\n",
       "      <td>2eeac8d8feae4a8cad5a6af0499a211d</td>\n",
       "      <td>2017-11-11</td>\n",
       "      <td>51000</td>\n",
       "      <td>5</td>\n",
       "      <td>4</td>\n",
       "      <td>2017</td>\n",
       "      <td>11</td>\n",
       "      <td>11</td>\n",
       "      <td>1785</td>\n",
       "      <td>4</td>\n",
       "    </tr>\n",
       "  </tbody>\n",
       "</table>\n",
       "</div>"
      ],
      "text/plain": [
       "   gender  age                       customer_id became_member_on  income  \\\n",
       "1       F   55  0610b486422d4921ae7d2bf64640c50b       2017-07-15  112000   \n",
       "3       F   75  78afa995795e4d85b5d9ceeca43f5fef       2017-05-09  100000   \n",
       "5       M   68  e2127556f4f64592b11af22de27a7932       2018-04-26   70000   \n",
       "8       M   65  389bc3fa690240e798340f5a15918d5c       2018-02-09   53000   \n",
       "12      M   58  2eeac8d8feae4a8cad5a6af0499a211d       2017-11-11   51000   \n",
       "\n",
       "    age_groups  salary_groups  member_year  member_month  member_day  \\\n",
       "1            5             10         2017             7          15   \n",
       "3            7              8         2017             5           9   \n",
       "5            6              5         2018             4          26   \n",
       "8            6              4         2018             2           9   \n",
       "12           5              4         2017            11          11   \n",
       "\n",
       "    members_since_in_days  member_since_year  \n",
       "1                    1904                  5  \n",
       "3                    1971                  5  \n",
       "5                    1619                  4  \n",
       "8                    1695                  4  \n",
       "12                   1785                  4  "
      ]
     },
     "execution_count": 28,
     "metadata": {},
     "output_type": "execute_result"
    }
   ],
   "source": [
    "profile.head()"
   ]
  },
  {
   "cell_type": "code",
   "execution_count": 29,
   "id": "9e2c62d2",
   "metadata": {},
   "outputs": [],
   "source": [
    "# save data\n",
    "profile.to_csv(path.data_processed_dir(\"profile.csv\"), index=False)\n",
    "profile.to_csv(G_processed/\"profile.csv\", index=False)"
   ]
  },
  {
   "cell_type": "markdown",
   "id": "d7220aef",
   "metadata": {},
   "source": [
    "## Transcript dataset"
   ]
  },
  {
   "cell_type": "code",
   "execution_count": 30,
   "id": "5538cc9f",
   "metadata": {},
   "outputs": [],
   "source": [
    "# rename the id columns for ease of understanding:\n",
    "\n",
    "transcript.rename(columns = {'person': 'customer_id'}, inplace = True)"
   ]
  },
  {
   "cell_type": "code",
   "execution_count": 31,
   "id": "a43b7feb",
   "metadata": {},
   "outputs": [],
   "source": [
    "# Create new columns offer_id, amount and reward from value column:\n",
    "\n",
    "import ast\n",
    "\n",
    "for ele in transcript['value']:\n",
    "    try:\n",
    "        ele['offer_id'] = ele.pop('offer id')\n",
    "    except:\n",
    "        pass\n",
    "\n",
    "# Create separate columns for amount and offer_id and reward from value col dictionary:\n",
    "data = pd.DataFrame([ast.literal_eval(json.dumps(ele)) for ele in transcript.value.values])\n",
    "\n",
    "transcript = pd.concat([transcript, data], axis = 1)"
   ]
  },
  {
   "cell_type": "code",
   "execution_count": 32,
   "id": "4059b60d",
   "metadata": {},
   "outputs": [],
   "source": [
    "# Replace null value with 0 to amount column:\n",
    "\n",
    "transcript.amount = transcript.amount.replace({np.nan: 0})"
   ]
  },
  {
   "cell_type": "code",
   "execution_count": 33,
   "id": "60a387c0",
   "metadata": {},
   "outputs": [],
   "source": [
    "#  Drop value column:\n",
    "\n",
    "transcript.drop('value', axis = 1, inplace = True)"
   ]
  },
  {
   "cell_type": "code",
   "execution_count": 34,
   "id": "9ae4ae8c",
   "metadata": {},
   "outputs": [],
   "source": [
    "# one hot encode for event column:\n",
    "\n",
    "df = pd.get_dummies(transcript['event'])\n",
    "\n",
    "transcript = pd.concat([df, transcript], axis = 1, sort = False)"
   ]
  },
  {
   "cell_type": "code",
   "execution_count": 35,
   "id": "1d2772a4",
   "metadata": {},
   "outputs": [
    {
     "data": {
      "image/png": "[encoded data removed]",
      "text/plain": [
       "<Figure size 432x288 with 2 Axes>"
      ]
     },
     "metadata": {
      "needs_background": "light"
     },
     "output_type": "display_data"
    }
   ],
   "source": [
    "# Heatmap for events:\n",
    "\n",
    "sb.heatmap(df.corr(), annot = True, fmt = '.2f', cmap = 'vlag_r', center = 0)\n",
    "plt.title('Corelation between variables');"
   ]
  },
  {
   "cell_type": "markdown",
   "id": "62d0f403",
   "metadata": {},
   "source": [
    "There is no relationship between types of events. negative corelation between them."
   ]
  },
  {
   "cell_type": "code",
   "execution_count": 36,
   "id": "e7106112",
   "metadata": {},
   "outputs": [],
   "source": [
    "# Rename column names:\n",
    "\n",
    "transcript.rename(columns = {'offer completed': 'offer_completed', \n",
    "                             'offer received': 'offer_recived', \n",
    "                             'offer viewed': 'offer_viewed'}, inplace = True)"
   ]
  },
  {
   "cell_type": "code",
   "execution_count": 37,
   "id": "8105c349",
   "metadata": {},
   "outputs": [
    {
     "name": "stdout",
     "output_type": "stream",
     "text": [
      "<class 'pandas.core.frame.DataFrame'>\n",
      "RangeIndex: 306534 entries, 0 to 306533\n",
      "Data columns (total 10 columns):\n",
      " #   Column           Non-Null Count   Dtype  \n",
      "---  ------           --------------   -----  \n",
      " 0   offer_completed  306534 non-null  uint8  \n",
      " 1   offer_recived    306534 non-null  uint8  \n",
      " 2   offer_viewed     306534 non-null  uint8  \n",
      " 3   transaction      306534 non-null  uint8  \n",
      " 4   customer_id      306534 non-null  object \n",
      " 5   event            306534 non-null  object \n",
      " 6   time             306534 non-null  int64  \n",
      " 7   offer_id         167581 non-null  object \n",
      " 8   amount           306534 non-null  float64\n",
      " 9   reward           33579 non-null   float64\n",
      "dtypes: float64(2), int64(1), object(3), uint8(4)\n",
      "memory usage: 15.2+ MB\n"
     ]
    }
   ],
   "source": [
    "transcript.info()"
   ]
  },
  {
   "cell_type": "code",
   "execution_count": 38,
   "id": "edd197b9",
   "metadata": {},
   "outputs": [
    {
     "data": {
      "text/html": [
       "<div>\n",
       "<style scoped>\n",
       "    .dataframe tbody tr th:only-of-type {\n",
       "        vertical-align: middle;\n",
       "    }\n",
       "\n",
       "    .dataframe tbody tr th {\n",
       "        vertical-align: top;\n",
       "    }\n",
       "\n",
       "    .dataframe thead th {\n",
       "        text-align: right;\n",
       "    }\n",
       "</style>\n",
       "<table border=\"1\" class=\"dataframe\">\n",
       "  <thead>\n",
       "    <tr style=\"text-align: right;\">\n",
       "      <th></th>\n",
       "      <th>offer_completed</th>\n",
       "      <th>offer_recived</th>\n",
       "      <th>offer_viewed</th>\n",
       "      <th>transaction</th>\n",
       "      <th>customer_id</th>\n",
       "      <th>event</th>\n",
       "      <th>time</th>\n",
       "      <th>offer_id</th>\n",
       "      <th>amount</th>\n",
       "      <th>reward</th>\n",
       "    </tr>\n",
       "  </thead>\n",
       "  <tbody>\n",
       "    <tr>\n",
       "      <th>0</th>\n",
       "      <td>0</td>\n",
       "      <td>1</td>\n",
       "      <td>0</td>\n",
       "      <td>0</td>\n",
       "      <td>78afa995795e4d85b5d9ceeca43f5fef</td>\n",
       "      <td>offer received</td>\n",
       "      <td>0</td>\n",
       "      <td>9b98b8c7a33c4b65b9aebfe6a799e6d9</td>\n",
       "      <td>0.0</td>\n",
       "      <td>NaN</td>\n",
       "    </tr>\n",
       "    <tr>\n",
       "      <th>1</th>\n",
       "      <td>0</td>\n",
       "      <td>1</td>\n",
       "      <td>0</td>\n",
       "      <td>0</td>\n",
       "      <td>a03223e636434f42ac4c3df47e8bac43</td>\n",
       "      <td>offer received</td>\n",
       "      <td>0</td>\n",
       "      <td>0b1e1539f2cc45b7b9fa7c272da2e1d7</td>\n",
       "      <td>0.0</td>\n",
       "      <td>NaN</td>\n",
       "    </tr>\n",
       "    <tr>\n",
       "      <th>2</th>\n",
       "      <td>0</td>\n",
       "      <td>1</td>\n",
       "      <td>0</td>\n",
       "      <td>0</td>\n",
       "      <td>e2127556f4f64592b11af22de27a7932</td>\n",
       "      <td>offer received</td>\n",
       "      <td>0</td>\n",
       "      <td>2906b810c7d4411798c6938adc9daaa5</td>\n",
       "      <td>0.0</td>\n",
       "      <td>NaN</td>\n",
       "    </tr>\n",
       "    <tr>\n",
       "      <th>3</th>\n",
       "      <td>0</td>\n",
       "      <td>1</td>\n",
       "      <td>0</td>\n",
       "      <td>0</td>\n",
       "      <td>8ec6ce2a7e7949b1bf142def7d0e0586</td>\n",
       "      <td>offer received</td>\n",
       "      <td>0</td>\n",
       "      <td>fafdcd668e3743c1bb461111dcafc2a4</td>\n",
       "      <td>0.0</td>\n",
       "      <td>NaN</td>\n",
       "    </tr>\n",
       "    <tr>\n",
       "      <th>4</th>\n",
       "      <td>0</td>\n",
       "      <td>1</td>\n",
       "      <td>0</td>\n",
       "      <td>0</td>\n",
       "      <td>68617ca6246f4fbc85e91a2a49552598</td>\n",
       "      <td>offer received</td>\n",
       "      <td>0</td>\n",
       "      <td>4d5c57ea9a6940dd891ad53e9dbe8da0</td>\n",
       "      <td>0.0</td>\n",
       "      <td>NaN</td>\n",
       "    </tr>\n",
       "  </tbody>\n",
       "</table>\n",
       "</div>"
      ],
      "text/plain": [
       "   offer_completed  offer_recived  offer_viewed  transaction  \\\n",
       "0                0              1             0            0   \n",
       "1                0              1             0            0   \n",
       "2                0              1             0            0   \n",
       "3                0              1             0            0   \n",
       "4                0              1             0            0   \n",
       "\n",
       "                        customer_id           event  time  \\\n",
       "0  78afa995795e4d85b5d9ceeca43f5fef  offer received     0   \n",
       "1  a03223e636434f42ac4c3df47e8bac43  offer received     0   \n",
       "2  e2127556f4f64592b11af22de27a7932  offer received     0   \n",
       "3  8ec6ce2a7e7949b1bf142def7d0e0586  offer received     0   \n",
       "4  68617ca6246f4fbc85e91a2a49552598  offer received     0   \n",
       "\n",
       "                           offer_id  amount  reward  \n",
       "0  9b98b8c7a33c4b65b9aebfe6a799e6d9     0.0     NaN  \n",
       "1  0b1e1539f2cc45b7b9fa7c272da2e1d7     0.0     NaN  \n",
       "2  2906b810c7d4411798c6938adc9daaa5     0.0     NaN  \n",
       "3  fafdcd668e3743c1bb461111dcafc2a4     0.0     NaN  \n",
       "4  4d5c57ea9a6940dd891ad53e9dbe8da0     0.0     NaN  "
      ]
     },
     "execution_count": 38,
     "metadata": {},
     "output_type": "execute_result"
    }
   ],
   "source": [
    "transcript.head()"
   ]
  },
  {
   "cell_type": "code",
   "execution_count": 39,
   "id": "fe5d28a8",
   "metadata": {},
   "outputs": [],
   "source": [
    "# save data\n",
    "transcript.to_csv(path.data_processed_dir(\"transcript.csv\"), index=False)\n",
    "transcript.to_csv(G_processed/\"transcript.csv\", index=False)"
   ]
  }
 ],
 "metadata": {
  "kernelspec": {
   "display_name": "Python 3 (ipykernel)",
   "language": "python",
   "name": "python3"
  },
  "language_info": {
   "codemirror_mode": {
    "name": "ipython",
    "version": 3
   },
   "file_extension": ".py",
   "mimetype": "text/x-python",
   "name": "python",
   "nbconvert_exporter": "python",
   "pygments_lexer": "ipython3",
   "version": "3.9.12"
  }
 },
 "nbformat": 4,
 "nbformat_minor": 5
}
